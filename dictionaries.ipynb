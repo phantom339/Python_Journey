{
 "cells": [
  {
   "cell_type": "code",
   "execution_count": 2,
   "id": "23988e24",
   "metadata": {},
   "outputs": [
    {
     "name": "stdout",
     "output_type": "stream",
     "text": [
      "{'harry': 98, 'hermoine': 99}\n"
     ]
    }
   ],
   "source": [
    "#empty dictionaries:\n",
    "student_scores={}\n",
    "#initializing a dictionary and printing :\n",
    "student_scores[\"harry\"]=98\n",
    "student_scores[\"hermoine\"]=99\n",
    "print(student_scores)"
   ]
  },
  {
   "cell_type": "code",
   "execution_count": 4,
   "id": "d8e2fe23",
   "metadata": {},
   "outputs": [
    {
     "name": "stdout",
     "output_type": "stream",
     "text": [
      "harry\n",
      "98\n",
      "hermoine\n",
      "99\n"
     ]
    }
   ],
   "source": [
    "#looping through a dictionaies :\n",
    "for key in student_scores:\n",
    "    print(key)\n",
    "    print(student_scores[key])"
   ]
  },
  {
   "cell_type": "code",
   "execution_count": 11,
   "id": "70dbd704",
   "metadata": {},
   "outputs": [
    {
     "name": "stdout",
     "output_type": "stream",
     "text": [
      "{'France': {'cities_visited': ['Paris', 'Lille'], 'No.of times ': [12, 5]}, 'India': {'cities_visited': ['Lucknow', 'Delhi', 'Tanakpur'], 'No. of times': [3, 1, 10]}}\n"
     ]
    }
   ],
   "source": [
    "#nesting in dictionaires and lists :\n",
    "travel_log={\"France\":{\"cities_visited\":[\"Paris\", \"Lille\"], \"No.of times \":[12 , 5]},\n",
    "            \"India\":{\"cities_visited\":[\"Lucknow\", \"Delhi\", \"Tanakpur\"], \"No. of times\":[3, 1, 10]}\n",
    "           }\n",
    "print(travel_log)"
   ]
  },
  {
   "cell_type": "code",
   "execution_count": 16,
   "id": "6a7e50f7",
   "metadata": {},
   "outputs": [
    {
     "name": "stdout",
     "output_type": "stream",
     "text": [
      "[{'country': 'France', 'cities_visited': ['Paris', 'Lille'], 'No.of times ': [12, 5]}, {'country': 'India', 'cities_visited': ['Lucknow', 'Delhi', 'Tanakpur'], 'No. of times': [3, 1, 10]}]\n"
     ]
    }
   ],
   "source": [
    "#nesting a dictionary in a list :\n",
    "travel_log=[{\"country\":\n",
    "            \"France\",\n",
    "            \"cities_visited\":[\"Paris\", \"Lille\"],\"No.of times \":[12 , 5]},\n",
    "            {\"country\":\n",
    "            \"India\", \n",
    "            \"cities_visited\":[\"Lucknow\", \"Delhi\", \"Tanakpur\"], \n",
    "             \"No. of times\":[3, 1, 10]}\n",
    "            ]\n",
    "print(travel_log)"
   ]
  },
  {
   "cell_type": "code",
   "execution_count": null,
   "id": "9b8f8951",
   "metadata": {},
   "outputs": [],
   "source": []
  }
 ],
 "metadata": {
  "kernelspec": {
   "display_name": "Python 3 (ipykernel)",
   "language": "python",
   "name": "python3"
  },
  "language_info": {
   "codemirror_mode": {
    "name": "ipython",
    "version": 3
   },
   "file_extension": ".py",
   "mimetype": "text/x-python",
   "name": "python",
   "nbconvert_exporter": "python",
   "pygments_lexer": "ipython3",
   "version": "3.10.9"
  }
 },
 "nbformat": 4,
 "nbformat_minor": 5
}
