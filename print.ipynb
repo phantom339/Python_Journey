{
 "cells": [
  {
   "cell_type": "code",
   "execution_count": 1,
   "metadata": {},
   "outputs": [
    {
     "name": "stdout",
     "output_type": "stream",
     "text": [
      "hi guy\n"
     ]
    }
   ],
   "source": [
    "print(\"hi guy\")"
   ]
  },
  {
   "cell_type": "code",
   "execution_count": 1,
   "metadata": {},
   "outputs": [
    {
     "name": "stdout",
     "output_type": "stream",
     "text": [
      "e\n"
     ]
    }
   ],
   "source": [
    "#subscripting\n",
    "print(\"hello\"[1])"
   ]
  },
  {
   "cell_type": "code",
   "execution_count": 2,
   "metadata": {},
   "outputs": [
    {
     "name": "stdout",
     "output_type": "stream",
     "text": [
      "hello world \n",
      " helllo bhai\n"
     ]
    }
   ],
   "source": [
    "print(\"hello world \\n helllo bhai\")"
   ]
  },
  {
   "cell_type": "code",
   "execution_count": 1,
   "metadata": {},
   "outputs": [
    {
     "name": "stdout",
     "output_type": "stream",
     "text": [
      "hello  Pulkit\n"
     ]
    }
   ],
   "source": [
    "print(\"hello \" + \" Pulkit\")"
   ]
  },
  {
   "cell_type": "code",
   "execution_count": 4,
   "metadata": {},
   "outputs": [
    {
     "name": "stdout",
     "output_type": "stream",
     "text": [
      " what is your name pulkit\n",
      "hello pulkit\n"
     ]
    }
   ],
   "source": [
    "#inputing name or string \n",
    "print(\"hello \" + input(\" what is your name \"))\n"
   ]
  },
  {
   "cell_type": "code",
   "execution_count": 5,
   "metadata": {},
   "outputs": [
    {
     "name": "stdout",
     "output_type": "stream",
     "text": [
      "what is your name pulkit\n",
      "6\n"
     ]
    }
   ],
   "source": [
    "#variables and calculating length \n",
    "name = input(\"what is your name \")\n",
    "length = len(name)\n",
    "print(length)"
   ]
  },
  {
   "cell_type": "code",
   "execution_count": 7,
   "metadata": {},
   "outputs": [
    {
     "name": "stdout",
     "output_type": "stream",
     "text": [
      "name your city hld\n",
      "name your petmac\n",
      "band name is : hldmac\n"
     ]
    }
   ],
   "source": [
    "#band name generator \n",
    "city=input(\"name your city \")\n",
    "pet=input(\"name your pet\")\n",
    "b_n=city + pet \n",
    "print(\"band name is :\", b_n)"
   ]
  },
  {
   "cell_type": "code",
   "execution_count": 1,
   "metadata": {},
   "outputs": [
    {
     "name": "stdout",
     "output_type": "stream",
     "text": [
      "2.67\n"
     ]
    }
   ],
   "source": [
    "#round off function\n",
    "print(round(8/3,2))"
   ]
  },
  {
   "cell_type": "code",
   "execution_count": 2,
   "metadata": {},
   "outputs": [
    {
     "name": "stdout",
     "output_type": "stream",
     "text": [
      "your score is 10,height is 5.9\n"
     ]
    }
   ],
   "source": [
    "#f-string\n",
    "score=10\n",
    "height=5.9\n",
    "print(f\"your score is {score},height is {height}\")"
   ]
  }
 ],
 "metadata": {
  "kernelspec": {
   "display_name": "Python 3 (ipykernel)",
   "language": "python",
   "name": "python3"
  },
  "language_info": {
   "codemirror_mode": {
    "name": "ipython",
    "version": 3
   },
   "file_extension": ".py",
   "mimetype": "text/x-python",
   "name": "python",
   "nbconvert_exporter": "python",
   "pygments_lexer": "ipython3",
   "version": "3.10.9"
  }
 },
 "nbformat": 4,
 "nbformat_minor": 2
}
